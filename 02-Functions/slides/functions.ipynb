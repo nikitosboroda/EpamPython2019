{
 "cells": [
  {
   "cell_type": "markdown",
   "metadata": {
    "slideshow": {
     "slide_type": "slide"
    }
   },
   "source": [
    "## Немного о правилах хорошего тона"
   ]
  },
  {
   "cell_type": "markdown",
   "metadata": {
    "slideshow": {
     "slide_type": "subslide"
    }
   },
   "source": [
    "#### __Truthy__ and __Falsy__ values\n",
    "\n",
    "refer to values which are evaluated to True or False"
   ]
  },
  {
   "cell_type": "code",
   "execution_count": 21,
   "metadata": {
    "slideshow": {
     "slide_type": "fragment"
    }
   },
   "outputs": [
    {
     "name": "stdout",
     "output_type": "stream",
     "text": [
      "False\n",
      "True\n",
      "False\n",
      "False\n",
      "False\n",
      "True\n"
     ]
    }
   ],
   "source": [
    "print(bool([]))\n",
    "\n",
    "print(bool([1]))\n",
    "\n",
    "print(bool(0))\n",
    "\n",
    "print(bool(''))\n",
    "\n",
    "print(bool(b''))\n",
    "\n",
    "print(bool('hello'))"
   ]
  },
  {
   "cell_type": "markdown",
   "metadata": {
    "slideshow": {
     "slide_type": "fragment"
    }
   },
   "source": [
    "__Falsy__ - None, False, 0, 0.0, 0j, пустые строки/байты, пустые коллекции."
   ]
  },
  {
   "cell_type": "markdown",
   "metadata": {
    "slideshow": {
     "slide_type": "slide"
    }
   },
   "source": [
    "### Используйте эту семантику для проверки коллекции на пустоту"
   ]
  },
  {
   "cell_type": "code",
   "execution_count": 5,
   "metadata": {
    "slideshow": {
     "slide_type": "fragment"
    }
   },
   "outputs": [],
   "source": [
    "smth = []\n",
    "\n",
    "# плохо\n",
    "if smth == []:\n",
    "    ...\n",
    "if len(smth) != 0:\n",
    "    ...\n",
    "\n",
    "    \n",
    "# лучше\n",
    "if not smth:\n",
    "    ...\n",
    "\n",
    "\n",
    "some_counter = 0\n",
    "if smth == 0:\n",
    "    ..."
   ]
  },
  {
   "cell_type": "markdown",
   "metadata": {
    "slideshow": {
     "slide_type": "slide"
    }
   },
   "source": [
    "### А какие еще membership operators существуют в Python?\n",
    "\n",
    "__in__\t\n",
    "\n",
    "Evaluates to true if it finds a variable in the specified sequence and false otherwise. \n",
    "\n",
    "`x in y` - here in results in a 1 if x is a member of sequence y.\n",
    "\n",
    "__not in__\t\n",
    "\n",
    "Evaluates to true if it does not finds a variable in the specified sequence and false otherwise. \t\n",
    "\n",
    "`x not in y` -  here not in results in a 1 if x is not a member of sequence y."
   ]
  },
  {
   "cell_type": "markdown",
   "metadata": {
    "slideshow": {
     "slide_type": "slide"
    }
   },
   "source": [
    "#### Не используйте __dict.get__ и коллекцию __dict.keys__ для проверки наличия ключа в словаре:"
   ]
  },
  {
   "cell_type": "code",
   "execution_count": null,
   "metadata": {
    "slideshow": {
     "slide_type": "fragment"
    }
   },
   "outputs": [],
   "source": [
    "pocket = {}\n",
    "\n",
    "# Плохо\n",
    "if key in pocket.keys():\n",
    "    ...\n",
    "\n",
    "if not pocket.get(key, False):\n",
    "    ...\n",
    "\n",
    "# Лучше\n",
    "if key in pocket:\n",
    "    ...\n",
    "\n",
    "if key not in pocket:\n",
    "    ..."
   ]
  },
  {
   "cell_type": "markdown",
   "metadata": {
    "slideshow": {
     "slide_type": "slide"
    }
   },
   "source": [
    "#### Используйте литералы для создания пустых коллекций. Исключение: set, литералов пустого множества в Python нет."
   ]
  },
  {
   "cell_type": "code",
   "execution_count": null,
   "metadata": {
    "slideshow": {
     "slide_type": "fragment"
    }
   },
   "outputs": [],
   "source": [
    "# Плохо\n",
    "dict(), list(), tuple()\n",
    "\n",
    "# Лучше\n",
    "{}, [], ()"
   ]
  },
  {
   "cell_type": "markdown",
   "metadata": {
    "slideshow": {
     "slide_type": "subslide"
    }
   },
   "source": [
    "### Все дело в скорости.."
   ]
  },
  {
   "cell_type": "code",
   "execution_count": 12,
   "metadata": {
    "scrolled": true,
    "slideshow": {
     "slide_type": "fragment"
    }
   },
   "outputs": [
    {
     "name": "stdout",
     "output_type": "stream",
     "text": [
      "0.25742478400024993\n",
      "0.03437785200003418\n"
     ]
    }
   ],
   "source": [
    "from timeit import timeit as tm\n",
    "\n",
    "print(tm(\"d = dict()\"))\n",
    "print(tm(\"d = {}\"))"
   ]
  },
  {
   "cell_type": "code",
   "execution_count": 11,
   "metadata": {
    "scrolled": false,
    "slideshow": {
     "slide_type": "subslide"
    }
   },
   "outputs": [
    {
     "name": "stdout",
     "output_type": "stream",
     "text": [
      "  1           0 BUILD_MAP                0\n",
      "              2 STORE_NAME               0 (d)\n",
      "              4 LOAD_CONST               0 (None)\n",
      "              6 RETURN_VALUE\n"
     ]
    }
   ],
   "source": [
    "from dis import dis\n",
    "\n",
    "dis('d = {}')"
   ]
  },
  {
   "cell_type": "code",
   "execution_count": 10,
   "metadata": {
    "scrolled": true,
    "slideshow": {
     "slide_type": "fragment"
    }
   },
   "outputs": [
    {
     "name": "stdout",
     "output_type": "stream",
     "text": [
      "  1           0 LOAD_NAME                0 (set)\n",
      "              2 LOAD_CONST               0 ((1, 2, 3))\n",
      "              4 CALL_FUNCTION            1\n",
      "              6 STORE_NAME               1 (d)\n",
      "              8 LOAD_CONST               1 (None)\n",
      "             10 RETURN_VALUE\n"
     ]
    }
   ],
   "source": [
    "dis('d = set((1,2,3))')"
   ]
  },
  {
   "cell_type": "markdown",
   "metadata": {
    "slideshow": {
     "slide_type": "slide"
    }
   },
   "source": [
    "### Оккам достает бритву. тут вам не Scala"
   ]
  },
  {
   "cell_type": "code",
   "execution_count": null,
   "metadata": {
    "slideshow": {
     "slide_type": "fragment"
    }
   },
   "outputs": [],
   "source": [
    "# Плохо\n",
    "i = 0\n",
    "while i < n:\n",
    "    ...\n",
    "    i += 1\n",
    "\n",
    "# Лучше\n",
    "for i in range(n):\n",
    "    ..."
   ]
  },
  {
   "cell_type": "code",
   "execution_count": null,
   "metadata": {
    "slideshow": {
     "slide_type": "subslide"
    }
   },
   "outputs": [],
   "source": [
    "# Плохо\n",
    "for i in range(len(xs)) :\n",
    "    x = xs[i]\n",
    "\n",
    "# Лучше\n",
    "for x in xs:\n",
    "    ...\n",
    "\n",
    "# Или\n",
    "for i, x in enumerate(xs):\n",
    "    ..."
   ]
  },
  {
   "cell_type": "code",
   "execution_count": null,
   "metadata": {
    "slideshow": {
     "slide_type": "subslide"
    }
   },
   "outputs": [],
   "source": [
    "# Плохо\n",
    "if condition:\n",
    "    return True\n",
    "else\n",
    "    return False\n",
    "\n",
    "# Лучше\n",
    "return condition"
   ]
  },
  {
   "cell_type": "markdown",
   "metadata": {
    "slideshow": {
     "slide_type": "slide"
    }
   },
   "source": [
    "### Не итерируйтесь по файлу через методы `readline() readlines()`"
   ]
  },
  {
   "cell_type": "code",
   "execution_count": null,
   "metadata": {
    "slideshow": {
     "slide_type": "fragment"
    }
   },
   "outputs": [],
   "source": [
    "# Плохо\n",
    "while True:\n",
    "    line = file.readline()\n",
    "    ...\n",
    "\n",
    "for line in file.readlines():\n",
    "    ...\n",
    "\n",
    "\n",
    "# Лучше\n",
    "for line in file:\n",
    "    ..."
   ]
  },
  {
   "cell_type": "markdown",
   "metadata": {
    "slideshow": {
     "slide_type": "slide"
    }
   },
   "source": [
    "## Any & All in Python\n",
    "\n",
    "Returns true if any of the items is True. It returns False if empty or all are false. Any can be thought of as a sequence of OR operations on the provided iterables.\n",
    "It short circuit the execution i.e. stop the execution as soon as the result is known.\n",
    "\n",
    "Syntax : any(list of iterables)\n",
    "\n",
    "Returns true if all of the items are True (or if the iterable is empty). All can be thought of as a sequence of AND operations on the provided iterables. It also short circuit the execution i.e. stop the execution as soon as the result is known.\n",
    "\n",
    "Syntax : all(list of iterables)"
   ]
  },
  {
   "cell_type": "code",
   "execution_count": null,
   "metadata": {
    "slideshow": {
     "slide_type": "fragment"
    }
   },
   "outputs": [],
   "source": [
    "xs = [x for x in xs if predicate]\n",
    "return True if xs else False\n",
    "\n",
    "# Лучше\n",
    "xs = [x for x in xs if predicate]\n",
    "return bool(xs)\n",
    "\n",
    "# супир-пупир\n",
    "return any(map(predicate, xs))\n",
    "return all(map(predicate, xs))"
   ]
  },
  {
   "cell_type": "markdown",
   "metadata": {
    "slideshow": {
     "slide_type": "slide"
    }
   },
   "source": [
    "## В любой непонятной ситуации используй методы встроенных структур данных\n",
    "<img src=\"images/life.png\" width=\"500\" height=\"500\">"
   ]
  },
  {
   "cell_type": "code",
   "execution_count": null,
   "metadata": {
    "slideshow": {
     "slide_type": "fragment"
    }
   },
   "outputs": [],
   "source": [
    "# Плохо\n",
    "s[:len(p)] == p\n",
    "s.find(p) == len(s) - len(p)\n",
    "\n",
    "# Лучше\n",
    "s.startswith(p)\n",
    "s.endswith(p)"
   ]
  },
  {
   "cell_type": "markdown",
   "metadata": {
    "slideshow": {
     "slide_type": "slide"
    }
   },
   "source": [
    "### Используй форматирование строк вместо явных вызовов str и конкатенации."
   ]
  },
  {
   "cell_type": "code",
   "execution_count": null,
   "metadata": {
    "slideshow": {
     "slide_type": "fragment"
    }
   },
   "outputs": [],
   "source": [
    "# Плохо\n",
    "\"(+ \" + str(expr1) + \" \" + str(expr2) + \")\"\n",
    "\n",
    "# Лучше\n",
    "\"(+ {} {})\".format(expr1, expr2)"
   ]
  },
  {
   "cell_type": "markdown",
   "metadata": {
    "slideshow": {
     "slide_type": "fragment"
    }
   },
   "source": [
    "Исключение: приведение к строке одного объекта"
   ]
  },
  {
   "cell_type": "code",
   "execution_count": null,
   "metadata": {
    "slideshow": {
     "slide_type": "fragment"
    }
   },
   "outputs": [],
   "source": [
    "# Плохо\n",
    "\"{}\".format(value)\n",
    "\n",
    "# Лучше\n",
    "str(value)"
   ]
  },
  {
   "cell_type": "markdown",
   "metadata": {
    "slideshow": {
     "slide_type": "subslide"
    }
   },
   "source": [
    "#### метод str.format преобразует аргументы в строку."
   ]
  },
  {
   "cell_type": "code",
   "execution_count": null,
   "metadata": {
    "slideshow": {
     "slide_type": "fragment"
    }
   },
   "outputs": [],
   "source": [
    "# Плохо\n",
    "\"(+ {} {})\".format(str(expr1), str(expr2))\n",
    "\n",
    "# Лучше\n",
    "\"(+ {} {})\".format(expr1, expr2)"
   ]
  },
  {
   "cell_type": "markdown",
   "metadata": {
    "slideshow": {
     "slide_type": "slide"
    }
   },
   "source": [
    "## Functions"
   ]
  },
  {
   "cell_type": "code",
   "execution_count": 11,
   "metadata": {
    "slideshow": {
     "slide_type": "fragment"
    }
   },
   "outputs": [],
   "source": [
    "def funny_function():\n",
    "    return 'to_the_blue_lagoon'"
   ]
  },
  {
   "cell_type": "code",
   "execution_count": 4,
   "metadata": {
    "slideshow": {
     "slide_type": "fragment"
    }
   },
   "outputs": [
    {
     "data": {
      "text/plain": [
       "'to_the_blue_lagoon'"
      ]
     },
     "execution_count": 4,
     "metadata": {},
     "output_type": "execute_result"
    }
   ],
   "source": [
    "funny_function()"
   ]
  },
  {
   "cell_type": "code",
   "execution_count": 5,
   "metadata": {
    "slideshow": {
     "slide_type": "fragment"
    }
   },
   "outputs": [
    {
     "data": {
      "text/plain": [
       "<function __main__.funny_function()>"
      ]
     },
     "execution_count": 5,
     "metadata": {},
     "output_type": "execute_result"
    }
   ],
   "source": [
    "funny_function"
   ]
  },
  {
   "cell_type": "markdown",
   "metadata": {
    "slideshow": {
     "slide_type": "subslide"
    }
   },
   "source": [
    "### Ограничение на выбор имени функции типичны\n",
    "- буквы\n",
    "- подчеркивание _ \n",
    "- цифры 0-9, __но не в начале!___"
   ]
  },
  {
   "cell_type": "code",
   "execution_count": 6,
   "metadata": {
    "slideshow": {
     "slide_type": "fragment"
    }
   },
   "outputs": [
    {
     "ename": "SyntaxError",
     "evalue": "invalid syntax (<ipython-input-6-735460777140>, line 1)",
     "output_type": "error",
     "traceback": [
      "\u001b[0;36m  File \u001b[0;32m\"<ipython-input-6-735460777140>\"\u001b[0;36m, line \u001b[0;32m1\u001b[0m\n\u001b[0;31m    def 1foo():\u001b[0m\n\u001b[0m        ^\u001b[0m\n\u001b[0;31mSyntaxError\u001b[0m\u001b[0;31m:\u001b[0m invalid syntax\n"
     ]
    }
   ],
   "source": [
    "def 1foo():\n",
    "    pass"
   ]
  },
  {
   "cell_type": "markdown",
   "metadata": {
    "slideshow": {
     "slide_type": "slide"
    }
   },
   "source": [
    "__return__ можно опустить - по умолчанию функция возвращает None"
   ]
  },
  {
   "cell_type": "code",
   "execution_count": 15,
   "metadata": {
    "slideshow": {
     "slide_type": "fragment"
    }
   },
   "outputs": [
    {
     "name": "stdout",
     "output_type": "stream",
     "text": [
      "None\n"
     ]
    }
   ],
   "source": [
    "def foo():\n",
    "    'foo'\n",
    "print(foo())"
   ]
  },
  {
   "cell_type": "code",
   "execution_count": 16,
   "metadata": {
    "slideshow": {
     "slide_type": "fragment"
    }
   },
   "outputs": [
    {
     "name": "stdout",
     "output_type": "stream",
     "text": [
      "None\n",
      "None\n"
     ]
    }
   ],
   "source": [
    "print(print(foo()))"
   ]
  },
  {
   "cell_type": "markdown",
   "metadata": {
    "slideshow": {
     "slide_type": "slide"
    }
   },
   "source": [
    "__return__ может быть несколько"
   ]
  },
  {
   "cell_type": "code",
   "execution_count": 26,
   "metadata": {
    "slideshow": {
     "slide_type": "fragment"
    }
   },
   "outputs": [
    {
     "name": "stdout",
     "output_type": "stream",
     "text": [
      "give you up\n",
      "run around and desert you\n"
     ]
    }
   ],
   "source": [
    "def never_gonna(what):\n",
    "    if what == 1:\n",
    "        return 'give you up'\n",
    "    if what == 2:\n",
    "        return 'let you down'\n",
    "    return 'run around and desert you'\n",
    "    print(\"You wouldn't get this from any other guy\")\n",
    "    \n",
    "print(never_gonna(1))\n",
    "print(never_gonna(10))"
   ]
  },
  {
   "cell_type": "markdown",
   "metadata": {
    "slideshow": {
     "slide_type": "subslide"
    }
   },
   "source": [
    "Для документации функции используют строковые литералы:"
   ]
  },
  {
   "cell_type": "code",
   "execution_count": 7,
   "metadata": {
    "slideshow": {
     "slide_type": "fragment"
    }
   },
   "outputs": [],
   "source": [
    "def creep():\n",
    "    \"\"\"I wish I was special\"\"\"\n",
    "    return 'unreal'"
   ]
  },
  {
   "cell_type": "markdown",
   "metadata": {},
   "source": [
    "Как их найти?"
   ]
  },
  {
   "cell_type": "code",
   "execution_count": 9,
   "metadata": {
    "slideshow": {
     "slide_type": "fragment"
    }
   },
   "outputs": [
    {
     "data": {
      "text/plain": [
       "'I wish I was special'"
      ]
     },
     "execution_count": 9,
     "metadata": {},
     "output_type": "execute_result"
    }
   ],
   "source": [
    "creep.__doc__"
   ]
  },
  {
   "cell_type": "code",
   "execution_count": 10,
   "metadata": {
    "slideshow": {
     "slide_type": "fragment"
    }
   },
   "outputs": [
    {
     "name": "stdout",
     "output_type": "stream",
     "text": [
      "Help on function creep in module __main__:\n",
      "\n",
      "creep()\n",
      "    I wish I was special\n",
      "\n"
     ]
    }
   ],
   "source": [
    "help(creep)"
   ]
  },
  {
   "cell_type": "markdown",
   "metadata": {
    "slideshow": {
     "slide_type": "slide"
    }
   },
   "source": [
    "### Arguments"
   ]
  },
  {
   "cell_type": "markdown",
   "metadata": {
    "slideshow": {
     "slide_type": "subslide"
    }
   },
   "source": [
    "#### Positional arguments"
   ]
  },
  {
   "cell_type": "code",
   "execution_count": 28,
   "metadata": {
    "scrolled": true,
    "slideshow": {
     "slide_type": "fragment"
    }
   },
   "outputs": [
    {
     "data": {
      "text/plain": [
       "9.5"
      ]
     },
     "execution_count": 28,
     "metadata": {},
     "output_type": "execute_result"
    }
   ],
   "source": [
    "def avg(a, b):\n",
    "    return (a+b)/2\n",
    "\n",
    "avg(10, 9)"
   ]
  },
  {
   "cell_type": "markdown",
   "metadata": {
    "slideshow": {
     "slide_type": "subslide"
    }
   },
   "source": [
    "#### Keyword arguments"
   ]
  },
  {
   "cell_type": "code",
   "execution_count": 23,
   "metadata": {
    "slideshow": {
     "slide_type": "fragment"
    }
   },
   "outputs": [
    {
     "name": "stdout",
     "output_type": "stream",
     "text": [
      "10 scoop(s) with chocolate and syrup toping\n",
      "3 scoop(s) with strawberries and bananas and nut toping\n",
      "1 scoop(s) with vanilla and KETCHUP toping\n"
     ]
    }
   ],
   "source": [
    "def order_an_ice_cream(scoop, toping=\"syrup\", flavor=\"chocolate\"):\n",
    "    return f\"{scoop} scoop(s) with {flavor} and {toping} toping\"\n",
    "\n",
    "\n",
    "print(order_an_ice_cream(10))\n",
    "print(order_an_ice_cream(3, \"nut\", \"strawberries and bananas\"))\n",
    "print(order_an_ice_cream(scoop=1, toping=\"KETCHUP\", flavor=\"vanilla\"))"
   ]
  },
  {
   "cell_type": "code",
   "execution_count": 24,
   "metadata": {
    "scrolled": true,
    "slideshow": {
     "slide_type": "fragment"
    }
   },
   "outputs": [
    {
     "ename": "SyntaxError",
     "evalue": "positional argument follows keyword argument (<ipython-input-24-1eaced7ef92e>, line 1)",
     "output_type": "error",
     "traceback": [
      "\u001b[0;36m  File \u001b[0;32m\"<ipython-input-24-1eaced7ef92e>\"\u001b[0;36m, line \u001b[0;32m1\u001b[0m\n\u001b[0;31m    print(order_an_ice_cream(3, toping=\"nut\", \"strawberries and bananas\"))\u001b[0m\n\u001b[0m                                             ^\u001b[0m\n\u001b[0;31mSyntaxError\u001b[0m\u001b[0;31m:\u001b[0m positional argument follows keyword argument\n"
     ]
    }
   ],
   "source": [
    "print(order_an_ice_cream(3, toping=\"nut\", \"strawberries and bananas\"))"
   ]
  },
  {
   "cell_type": "markdown",
   "metadata": {
    "slideshow": {
     "slide_type": "slide"
    }
   },
   "source": [
    "### Инициализация значений по умолчанию"
   ]
  },
  {
   "cell_type": "code",
   "execution_count": 35,
   "metadata": {
    "slideshow": {
     "slide_type": "fragment"
    }
   },
   "outputs": [
    {
     "name": "stdout",
     "output_type": "stream",
     "text": [
      "[1]\n",
      "[1, 2]\n",
      "[1, 2, 3]\n",
      "['q', 1]\n"
     ]
    }
   ],
   "source": [
    "def foo(a, lst=[]):\n",
    "    lst.append(a)\n",
    "    return lst\n",
    "\n",
    "print(foo(1))\n",
    "print(foo(2))\n",
    "print(foo(3))\n",
    "print(foo(1, ['q']))"
   ]
  },
  {
   "cell_type": "code",
   "execution_count": 36,
   "metadata": {
    "slideshow": {
     "slide_type": "subslide"
    }
   },
   "outputs": [
    {
     "name": "stdout",
     "output_type": "stream",
     "text": [
      "[1]\n",
      "[2]\n",
      "[3]\n",
      "['q', 1]\n"
     ]
    }
   ],
   "source": [
    "def foo(a, lst=None):\n",
    "    lst = lst or []\n",
    "    lst.append(a)\n",
    "    return lst\n",
    "\n",
    "\n",
    "print(foo(1))\n",
    "print(foo(2))\n",
    "print(foo(3))\n",
    "print(foo(1, ['q']))"
   ]
  },
  {
   "cell_type": "markdown",
   "metadata": {
    "slideshow": {
     "slide_type": "slide"
    }
   },
   "source": [
    "### Упаковка"
   ]
  },
  {
   "cell_type": "code",
   "execution_count": 37,
   "metadata": {
    "slideshow": {
     "slide_type": "fragment"
    }
   },
   "outputs": [],
   "source": [
    "def avg(*args):\n",
    "    return sum(args)/len(args)"
   ]
  },
  {
   "cell_type": "code",
   "execution_count": 38,
   "metadata": {
    "slideshow": {
     "slide_type": "fragment"
    }
   },
   "outputs": [
    {
     "data": {
      "text/plain": [
       "3.0833333333333335"
      ]
     },
     "execution_count": 38,
     "metadata": {},
     "output_type": "execute_result"
    }
   ],
   "source": [
    "avg(1, 2, 3, 4, 5, 3.50)"
   ]
  },
  {
   "cell_type": "code",
   "execution_count": 39,
   "metadata": {
    "slideshow": {
     "slide_type": "fragment"
    }
   },
   "outputs": [
    {
     "ename": "ZeroDivisionError",
     "evalue": "division by zero",
     "output_type": "error",
     "traceback": [
      "\u001b[0;31m---------------------------------------------------------------------------\u001b[0m",
      "\u001b[0;31mZeroDivisionError\u001b[0m                         Traceback (most recent call last)",
      "\u001b[0;32m<ipython-input-39-f5d909301850>\u001b[0m in \u001b[0;36m<module>\u001b[0;34m\u001b[0m\n\u001b[0;32m----> 1\u001b[0;31m \u001b[0mavg\u001b[0m\u001b[0;34m(\u001b[0m\u001b[0;34m)\u001b[0m\u001b[0;34m\u001b[0m\u001b[0;34m\u001b[0m\u001b[0m\n\u001b[0m",
      "\u001b[0;32m<ipython-input-37-983fe2e3ee7a>\u001b[0m in \u001b[0;36mavg\u001b[0;34m(*args)\u001b[0m\n\u001b[1;32m      1\u001b[0m \u001b[0;32mdef\u001b[0m \u001b[0mavg\u001b[0m\u001b[0;34m(\u001b[0m\u001b[0;34m*\u001b[0m\u001b[0margs\u001b[0m\u001b[0;34m)\u001b[0m\u001b[0;34m:\u001b[0m\u001b[0;34m\u001b[0m\u001b[0;34m\u001b[0m\u001b[0m\n\u001b[0;32m----> 2\u001b[0;31m     \u001b[0;32mreturn\u001b[0m \u001b[0msum\u001b[0m\u001b[0;34m(\u001b[0m\u001b[0margs\u001b[0m\u001b[0;34m)\u001b[0m\u001b[0;34m/\u001b[0m\u001b[0mlen\u001b[0m\u001b[0;34m(\u001b[0m\u001b[0margs\u001b[0m\u001b[0;34m)\u001b[0m\u001b[0;34m\u001b[0m\u001b[0;34m\u001b[0m\u001b[0m\n\u001b[0m",
      "\u001b[0;31mZeroDivisionError\u001b[0m: division by zero"
     ]
    }
   ],
   "source": [
    "avg()"
   ]
  },
  {
   "cell_type": "code",
   "execution_count": 4,
   "metadata": {
    "slideshow": {
     "slide_type": "subslide"
    }
   },
   "outputs": [
    {
     "name": "stdout",
     "output_type": "stream",
     "text": [
      "<class 'tuple'>\n"
     ]
    },
    {
     "ename": "TypeError",
     "evalue": "avg() missing 1 required positional argument: 'first'",
     "output_type": "error",
     "traceback": [
      "\u001b[0;31m---------------------------------------------------------------------------\u001b[0m",
      "\u001b[0;31mTypeError\u001b[0m                                 Traceback (most recent call last)",
      "\u001b[0;32m<ipython-input-4-6e5fd68e1040>\u001b[0m in \u001b[0;36m<module>\u001b[0;34m\u001b[0m\n\u001b[1;32m      4\u001b[0m     \u001b[0;32mreturn\u001b[0m \u001b[0msum\u001b[0m\u001b[0;34m(\u001b[0m\u001b[0margs\u001b[0m\u001b[0;34m)\u001b[0m\u001b[0;34m/\u001b[0m\u001b[0mlen\u001b[0m\u001b[0;34m(\u001b[0m\u001b[0margs\u001b[0m\u001b[0;34m)\u001b[0m\u001b[0;34m\u001b[0m\u001b[0;34m\u001b[0m\u001b[0m\n\u001b[1;32m      5\u001b[0m \u001b[0mavg\u001b[0m\u001b[0;34m(\u001b[0m\u001b[0;36m1\u001b[0m\u001b[0;34m,\u001b[0m \u001b[0;36m2\u001b[0m\u001b[0;34m,\u001b[0m \u001b[0;36m4\u001b[0m\u001b[0;34m)\u001b[0m\u001b[0;34m\u001b[0m\u001b[0;34m\u001b[0m\u001b[0m\n\u001b[0;32m----> 6\u001b[0;31m \u001b[0mavg\u001b[0m\u001b[0;34m(\u001b[0m\u001b[0;34m)\u001b[0m\u001b[0;34m\u001b[0m\u001b[0;34m\u001b[0m\u001b[0m\n\u001b[0m",
      "\u001b[0;31mTypeError\u001b[0m: avg() missing 1 required positional argument: 'first'"
     ]
    }
   ],
   "source": [
    "def avg(first, *args):\n",
    "    print(type(args))\n",
    "    numbers = (first,) + args\n",
    "    return sum(numbers)/len(numbers)\n",
    "\n",
    "avg(1, 2, 4)\n",
    "avg()"
   ]
  },
  {
   "cell_type": "code",
   "execution_count": 12,
   "metadata": {},
   "outputs": [
    {
     "name": "stdout",
     "output_type": "stream",
     "text": [
      "(1, 10, 100)\n",
      "Some very informative print telling us that return value is 37.0\n",
      "(1, 10, 100)\n",
      "Some very informative print telling us that return value is 37.0\n",
      "(1, 10, 100)\n"
     ]
    }
   ],
   "source": [
    "def avg_with_kwargs(first, *args, **kwargs):\n",
    "    numbers = (first,) + args\n",
    "    res = sum(numbers)/len(numbers)\n",
    "    if kwargs.get('do_print', False):\n",
    "        print('Some very informative print telling us that return value is', res)\n",
    "    return numbers\n",
    "        \n",
    "print(avg_with_kwargs(1, 10, 100))\n",
    "\n",
    "print(avg_with_kwargs(1, 10, 100, **{'do_print': True}))\n",
    "\n",
    "settings = {'do_print': True}\n",
    "print(avg_with_kwargs(1, 10, 100, **settings))"
   ]
  },
  {
   "cell_type": "markdown",
   "metadata": {
    "slideshow": {
     "slide_type": "slide"
    }
   },
   "source": [
    "### Function is a [first-class-object](https://stackoverflow.com/questions/245192/what-are-first-class-objects)!"
   ]
  },
  {
   "cell_type": "markdown",
   "metadata": {},
   "source": [
    "* может быть сохранен в переменной или структурах данных;\n",
    "* может быть передан в функцию как аргумент;\n",
    "* может быть возвращен из функции как результат;\n",
    "* может быть создан во время выполнения программы;"
   ]
  },
  {
   "cell_type": "code",
   "execution_count": 25,
   "metadata": {
    "slideshow": {
     "slide_type": "fragment"
    }
   },
   "outputs": [],
   "source": [
    "def my_function():\n",
    "     print('I am a function')"
   ]
  },
  {
   "cell_type": "code",
   "execution_count": 26,
   "metadata": {
    "slideshow": {
     "slide_type": "fragment"
    }
   },
   "outputs": [
    {
     "name": "stdout",
     "output_type": "stream",
     "text": [
      "<function my_function at 0x7f98947b37b8>\n",
      "Functions are objects - True\n"
     ]
    }
   ],
   "source": [
    "print(my_function)\n",
    "print('Functions are objects -', isinstance(my_function, object))"
   ]
  },
  {
   "cell_type": "markdown",
   "metadata": {
    "slideshow": {
     "slide_type": "subslide"
    }
   },
   "source": [
    "### Можно назначить переменную, хранящую ссылку на функцию"
   ]
  },
  {
   "cell_type": "code",
   "execution_count": 3,
   "metadata": {
    "slideshow": {
     "slide_type": "fragment"
    }
   },
   "outputs": [
    {
     "name": "stdout",
     "output_type": "stream",
     "text": [
      "I am a function\n"
     ]
    }
   ],
   "source": [
    "test = my_function\n",
    "test()"
   ]
  },
  {
   "cell_type": "markdown",
   "metadata": {
    "slideshow": {
     "slide_type": "fragment"
    }
   },
   "source": [
    "### С функцией можно делать все, что и с обычным объектом"
   ]
  },
  {
   "cell_type": "code",
   "execution_count": 27,
   "metadata": {
    "slideshow": {
     "slide_type": "fragment"
    }
   },
   "outputs": [
    {
     "name": "stdout",
     "output_type": "stream",
     "text": [
      "[<function my_function at 0x7f98947b37b8>]\n"
     ]
    }
   ],
   "source": [
    "my_list = []\n",
    "my_list.append(my_function)\n",
    "print(my_list)"
   ]
  },
  {
   "cell_type": "markdown",
   "metadata": {
    "slideshow": {
     "slide_type": "subslide"
    }
   },
   "source": [
    "### Можно передать как параметр"
   ]
  },
  {
   "cell_type": "code",
   "execution_count": null,
   "metadata": {
    "slideshow": {
     "slide_type": "fragment"
    }
   },
   "outputs": [],
   "source": [
    "def call_passed_function(incoming):\n",
    "    print('Calling!')\n",
    "    incoming()\n",
    "    print('Called!')\n",
    "\n",
    "call_passed_function(my_function)"
   ]
  },
  {
   "cell_type": "markdown",
   "metadata": {
    "slideshow": {
     "slide_type": "slide"
    }
   },
   "source": [
    "### Можно вернуть функцию из функции"
   ]
  },
  {
   "cell_type": "code",
   "execution_count": 8,
   "metadata": {
    "slideshow": {
     "slide_type": "fragment"
    }
   },
   "outputs": [
    {
     "name": "stdout",
     "output_type": "stream",
     "text": [
      "Min values is -9\n"
     ]
    }
   ],
   "source": [
    "def return_min_function():\n",
    "    return min\n",
    "\n",
    "test = return_min_function()\n",
    "min_value = test(4, 5, -9, 12)\n",
    "print('Min values is', min_value)"
   ]
  },
  {
   "cell_type": "markdown",
   "metadata": {
    "slideshow": {
     "slide_type": "slide"
    }
   },
   "source": [
    "### Можно создать аттрибут и положить туда что-то"
   ]
  },
  {
   "cell_type": "code",
   "execution_count": 13,
   "metadata": {
    "slideshow": {
     "slide_type": "fragment"
    }
   },
   "outputs": [
    {
     "data": {
      "text/plain": [
       "'foo'"
      ]
     },
     "execution_count": 13,
     "metadata": {},
     "output_type": "execute_result"
    }
   ],
   "source": [
    "def foo():\n",
    "    return 'moo'\n",
    "\n",
    "foo.attr = 'foo'\n",
    "foo.attr"
   ]
  },
  {
   "cell_type": "markdown",
   "metadata": {
    "slideshow": {
     "slide_type": "subslide"
    }
   },
   "source": [
    "### И обратиться к нему"
   ]
  },
  {
   "cell_type": "code",
   "execution_count": 14,
   "metadata": {
    "slideshow": {
     "slide_type": "fragment"
    }
   },
   "outputs": [
    {
     "data": {
      "text/plain": [
       "'foo'"
      ]
     },
     "execution_count": 14,
     "metadata": {},
     "output_type": "execute_result"
    }
   ],
   "source": [
    "def foo(): return foo.__name__\n",
    "\n",
    "foo()"
   ]
  },
  {
   "cell_type": "markdown",
   "metadata": {
    "slideshow": {
     "slide_type": "subslide"
    }
   },
   "source": [
    "### Можно ли вызвать все что угодно?"
   ]
  },
  {
   "cell_type": "code",
   "execution_count": 6,
   "metadata": {
    "slideshow": {
     "slide_type": "fragment"
    }
   },
   "outputs": [
    {
     "name": "stdout",
     "output_type": "stream",
     "text": [
      "It is not a function 'int' object is not callable\n"
     ]
    }
   ],
   "source": [
    "try:\n",
    "    d = 2\n",
    "    d()  # but you can try\n",
    "except TypeError as e:\n",
    "    print('It is not a function', e)"
   ]
  },
  {
   "cell_type": "markdown",
   "metadata": {
    "slideshow": {
     "slide_type": "subslide"
    }
   },
   "source": [
    "### Callable"
   ]
  },
  {
   "cell_type": "markdown",
   "metadata": {
    "slideshow": {
     "slide_type": "fragment"
    }
   },
   "source": [
    "Вызвать функцию - вызвать метод `__call__` у объекта. Вызов типа `add(1, 2)` == `add.__call__(1, 2)`"
   ]
  },
  {
   "cell_type": "markdown",
   "metadata": {
    "slideshow": {
     "slide_type": "fragment"
    }
   },
   "source": [
    "Определяя функцию типа ```def funcname(parameters):``` вы в действительности создаете новый объект с определенным методом `__call__`"
   ]
  },
  {
   "cell_type": "markdown",
   "metadata": {
    "slideshow": {
     "slide_type": "subslide"
    }
   },
   "source": [
    "### Проверить, что объект `callable`"
   ]
  },
  {
   "cell_type": "code",
   "execution_count": 7,
   "metadata": {
    "slideshow": {
     "slide_type": "fragment"
    }
   },
   "outputs": [
    {
     "name": "stdout",
     "output_type": "stream",
     "text": [
      "True False True\n"
     ]
    }
   ],
   "source": [
    "print(callable(len), callable(45), callable(callable))"
   ]
  },
  {
   "cell_type": "markdown",
   "metadata": {
    "colab_type": "text",
    "id": "nm8Moh-MKLza",
    "slideshow": {
     "slide_type": "slide"
    }
   },
   "source": [
    "### SCOPES AKA ОБЛАСТИ ВИДИМОСТИ"
   ]
  },
  {
   "cell_type": "markdown",
   "metadata": {
    "colab_type": "text",
    "id": "oACkehfHKLzg",
    "slideshow": {
     "slide_type": "slide"
    }
   },
   "source": [
    "Пространство имен – это соотнесение имен с объектами, желательно без конфликтов.\n",
    "\n",
    "Namespace ~= dict\n",
    "<img src='./images/namespaces.png' style='float: right;width:70%'>"
   ]
  },
  {
   "cell_type": "markdown",
   "metadata": {
    "colab_type": "text",
    "id": "MRXs77MhKLzj",
    "slideshow": {
     "slide_type": "slide"
    }
   },
   "source": [
    "<img src='./images/python_namespace.png' style='float:right;width:70%;height:70%'>"
   ]
  },
  {
   "cell_type": "code",
   "execution_count": 2,
   "metadata": {
    "colab": {},
    "colab_type": "code",
    "id": "aepyBwqqKLzp",
    "outputId": "e4e7c71e-3797-497c-cb27-1a765b891065",
    "slideshow": {
     "slide_type": "fragment"
    }
   },
   "outputs": [
    {
     "name": "stdout",
     "output_type": "stream",
     "text": [
      "spam and eggs\n",
      "spam and eggs\n",
      "140714621322480\n",
      "140714621322480\n"
     ]
    }
   ],
   "source": [
    "spam = 'spam and eggs'\n",
    "eggs = spam\n",
    " \n",
    "print(spam)  # spam and eggs\n",
    "print(eggs)  # spam and eggs\n",
    "\n",
    "print(id(spam)) \n",
    "print(id(eggs))"
   ]
  },
  {
   "cell_type": "markdown",
   "metadata": {
    "colab_type": "text",
    "id": "xD5t00NgKLz2",
    "slideshow": {
     "slide_type": "slide"
    }
   },
   "source": [
    "### Encapsulation and scoping"
   ]
  },
  {
   "cell_type": "markdown",
   "metadata": {
    "colab_type": "text",
    "id": "xPoVyboCKLz5",
    "slideshow": {
     "slide_type": "subslide"
    }
   },
   "source": [
    "Замыкание – возможность функции использовать чужие переменные."
   ]
  },
  {
   "cell_type": "code",
   "execution_count": 19,
   "metadata": {
    "slideshow": {
     "slide_type": "fragment"
    }
   },
   "outputs": [
    {
     "name": "stdout",
     "output_type": "stream",
     "text": [
      "spam and eggs\n"
     ]
    }
   ],
   "source": [
    "def spam():\n",
    "    eggs = 'spam and eggs'    \n",
    "    def cantine():\n",
    "        print(eggs)\n",
    "    cantine()\n",
    "    \n",
    "spam()\n"
   ]
  },
  {
   "cell_type": "code",
   "execution_count": 17,
   "metadata": {
    "colab": {},
    "colab_type": "code",
    "id": "98fth9wyKL0F",
    "outputId": "59844548-49be-468d-82a6-abcdd43f222f",
    "slideshow": {
     "slide_type": "fragment"
    }
   },
   "outputs": [
    {
     "name": "stdout",
     "output_type": "stream",
     "text": [
      "spam and eggs\n"
     ]
    }
   ],
   "source": [
    "def spam():\n",
    "    print(eggs)\n",
    " \n",
    "eggs = 'spam and eggs'\n",
    "spam()  # spam and eggs"
   ]
  },
  {
   "cell_type": "code",
   "execution_count": 1,
   "metadata": {
    "colab": {},
    "colab_type": "code",
    "id": "Y7QLEiXVKLz9",
    "outputId": "1a1225f6-5aa6-47d1-a848-cd34ba0dd7ad",
    "scrolled": true,
    "slideshow": {
     "slide_type": "subslide"
    }
   },
   "outputs": [
    {
     "name": "stdout",
     "output_type": "stream",
     "text": [
      "spam and eggs\n"
     ]
    },
    {
     "ename": "NameError",
     "evalue": "name 'eggs' is not defined",
     "output_type": "error",
     "traceback": [
      "\u001b[0;31m---------------------------------------------------------------------------\u001b[0m",
      "\u001b[0;31mNameError\u001b[0m                                 Traceback (most recent call last)",
      "\u001b[0;32m<ipython-input-1-ae7795babba4>\u001b[0m in \u001b[0;36m<module>\u001b[0;34m\u001b[0m\n\u001b[1;32m      4\u001b[0m \u001b[0;34m\u001b[0m\u001b[0m\n\u001b[1;32m      5\u001b[0m \u001b[0mspam\u001b[0m\u001b[0;34m(\u001b[0m\u001b[0;34m)\u001b[0m       \u001b[0;31m# spam and eggs\u001b[0m\u001b[0;34m\u001b[0m\u001b[0;34m\u001b[0m\u001b[0m\n\u001b[0;32m----> 6\u001b[0;31m \u001b[0mprint\u001b[0m\u001b[0;34m(\u001b[0m\u001b[0meggs\u001b[0m\u001b[0;34m)\u001b[0m  \u001b[0;31m# raises a NameError exception\u001b[0m\u001b[0;34m\u001b[0m\u001b[0;34m\u001b[0m\u001b[0m\n\u001b[0m",
      "\u001b[0;31mNameError\u001b[0m: name 'eggs' is not defined"
     ]
    }
   ],
   "source": [
    "def spam():\n",
    "    eggs = 'spam and eggs'\n",
    "    print(eggs)\n",
    " \n",
    "spam()       # spam and eggs\n",
    "print(eggs)  # raises a NameError exception"
   ]
  },
  {
   "cell_type": "markdown",
   "metadata": {
    "colab_type": "text",
    "id": "pFqHQYYhKL0P",
    "slideshow": {
     "slide_type": "subslide"
    }
   },
   "source": [
    "### Инициализируя объект класса, мы также создаем новую область видимости."
   ]
  },
  {
   "cell_type": "code",
   "execution_count": 21,
   "metadata": {
    "slideshow": {
     "slide_type": "skip"
    }
   },
   "outputs": [],
   "source": [
    "del eggs"
   ]
  },
  {
   "cell_type": "code",
   "execution_count": 22,
   "metadata": {
    "colab": {},
    "colab_type": "code",
    "id": "cbHTCNA9KL0R",
    "outputId": "ee2e9830-603e-49d8-9eeb-2965313cf80a",
    "slideshow": {
     "slide_type": "fragment"
    }
   },
   "outputs": [
    {
     "name": "stdout",
     "output_type": "stream",
     "text": [
      "2\n"
     ]
    },
    {
     "ename": "NameError",
     "evalue": "name 'eggs' is not defined",
     "output_type": "error",
     "traceback": [
      "\u001b[0;31m---------------------------------------------------------------------------\u001b[0m",
      "\u001b[0;31mNameError\u001b[0m                                 Traceback (most recent call last)",
      "\u001b[0;32m<ipython-input-22-0462a63f2338>\u001b[0m in \u001b[0;36m<module>\u001b[0;34m\u001b[0m\n\u001b[1;32m      6\u001b[0m \u001b[0mmy_meal\u001b[0m \u001b[0;34m=\u001b[0m \u001b[0mMeal\u001b[0m\u001b[0;34m(\u001b[0m\u001b[0;34m)\u001b[0m\u001b[0;34m\u001b[0m\u001b[0;34m\u001b[0m\u001b[0m\n\u001b[1;32m      7\u001b[0m \u001b[0mprint\u001b[0m\u001b[0;34m(\u001b[0m\u001b[0mmy_meal\u001b[0m\u001b[0;34m.\u001b[0m\u001b[0meggs\u001b[0m\u001b[0;34m)\u001b[0m    \u001b[0;31m# 2\u001b[0m\u001b[0;34m\u001b[0m\u001b[0;34m\u001b[0m\u001b[0m\n\u001b[0;32m----> 8\u001b[0;31m \u001b[0mprint\u001b[0m\u001b[0;34m(\u001b[0m\u001b[0meggs\u001b[0m\u001b[0;34m)\u001b[0m            \u001b[0;31m# raises a NameError exception\u001b[0m\u001b[0;34m\u001b[0m\u001b[0;34m\u001b[0m\u001b[0m\n\u001b[0m",
      "\u001b[0;31mNameError\u001b[0m: name 'eggs' is not defined"
     ]
    }
   ],
   "source": [
    "class Meal:\n",
    "    def __init__(self):\n",
    "        self.eggs = 2\n",
    " \n",
    " \n",
    "my_meal = Meal()\n",
    "print(my_meal.eggs)    # 2\n",
    "print(eggs)            # raises a NameError exception"
   ]
  },
  {
   "cell_type": "markdown",
   "metadata": {
    "colab_type": "text",
    "id": "HDqTUaU8KL0f",
    "slideshow": {
     "slide_type": "subslide"
    }
   },
   "source": [
    "###### Посмотреть, что у объекта в namespace, можно через ` dir()`"
   ]
  },
  {
   "cell_type": "code",
   "execution_count": 28,
   "metadata": {
    "colab": {},
    "colab_type": "code",
    "id": "dl7q7efXKL0h",
    "outputId": "2e1c7295-0342-4eb3-9106-b15dfec633df",
    "slideshow": {
     "slide_type": "fragment"
    }
   },
   "outputs": [
    {
     "data": {
      "text/plain": [
       "['__class__',\n",
       " '__delattr__',\n",
       " '__dict__',\n",
       " '__dir__',\n",
       " '__doc__',\n",
       " '__eq__',\n",
       " '__format__',\n",
       " '__ge__',\n",
       " '__getattribute__',\n",
       " '__gt__',\n",
       " '__hash__',\n",
       " '__init__',\n",
       " '__init_subclass__',\n",
       " '__le__',\n",
       " '__lt__',\n",
       " '__module__',\n",
       " '__ne__',\n",
       " '__new__',\n",
       " '__reduce__',\n",
       " '__reduce_ex__',\n",
       " '__repr__',\n",
       " '__setattr__',\n",
       " '__sizeof__',\n",
       " '__str__',\n",
       " '__subclasshook__',\n",
       " '__weakref__',\n",
       " 'eggs']"
      ]
     },
     "execution_count": 28,
     "metadata": {},
     "output_type": "execute_result"
    }
   ],
   "source": [
    "dir(my_meal)"
   ]
  },
  {
   "cell_type": "markdown",
   "metadata": {
    "colab_type": "text",
    "id": "VypVnTuBKL1E",
    "slideshow": {
     "slide_type": "slide"
    }
   },
   "source": [
    "### LEGB"
   ]
  },
  {
   "cell_type": "markdown",
   "metadata": {
    "colab_type": "text",
    "id": "6uF7xPByKL1F",
    "slideshow": {
     "slide_type": "subslide"
    }
   },
   "source": [
    "#### Поиск имени ведётся не более, чем в четырёх областях видимости: локальной, затем в объемлющей функции (если такая имеется), затем в глобальной и, наконец, во встроенной.\n",
    "\n",
    "<img src='./images/python_namespaces_legb.jpg' style='float: right'>\n"
   ]
  },
  {
   "cell_type": "markdown",
   "metadata": {
    "colab_type": "text",
    "id": "WS-x0f-QKL1I",
    "slideshow": {
     "slide_type": "subslide"
    }
   },
   "source": [
    "<div style='float:left;width:40%;font-size:25px'>\n",
    "<b>Local</b>– Names which are assigned within a function.\n",
    "\n",
    "<b>Enclosing</b> – Names which are assigned in a closure (function in a function)\n",
    "\n",
    "<b>Global</b> – Names which are assigned at the top-level of a module, for example on the top-level of your Python file\n",
    "\n",
    "<b>Built-in</b> – Names which are standard Python built-ins, such as open, import, print, return, Exception</div>\n",
    "\n",
    "<img src='./images/python_namespaces_code.jpg' style='float:right;width:60%' >\n"
   ]
  },
  {
   "cell_type": "code",
   "execution_count": 29,
   "metadata": {
    "scrolled": true,
    "slideshow": {
     "slide_type": "subslide"
    }
   },
   "outputs": [
    {
     "name": "stdout",
     "output_type": "stream",
     "text": [
      "inner_var 1\n",
      "var variable\n",
      "global_var\n",
      "func <function func at 0x7fe4a4626f28>\n"
     ]
    }
   ],
   "source": [
    "glabal_var = 0\n",
    "\n",
    "def func():\n",
    "    var = 'variable'\n",
    "    \n",
    "    def print_vars():\n",
    "        inner_var = 1 \n",
    "        print('inner_var', inner_var) # local\n",
    "        print('var', var) # enclosing\n",
    "        print('global_var') # global\n",
    "        print('func', func)\n",
    "    print_vars()\n",
    "    \n",
    "func()"
   ]
  },
  {
   "cell_type": "code",
   "execution_count": 30,
   "metadata": {
    "collapsed": true,
    "slideshow": {
     "slide_type": "subslide"
    }
   },
   "outputs": [
    {
     "name": "stdout",
     "output_type": "stream",
     "text": [
      "  4           0 LOAD_CONST               1 ('variable')\n",
      "              2 STORE_DEREF              0 (var)\n",
      "\n",
      "  6           4 LOAD_CLOSURE             0 (var)\n",
      "              6 BUILD_TUPLE              1\n",
      "              8 LOAD_CONST               2 (<code object print_vars at 0x7fe4a4352420, file \"<ipython-input-29-9aac0c951ca1>\", line 6>)\n",
      "             10 LOAD_CONST               3 ('func.<locals>.print_vars')\n",
      "             12 MAKE_FUNCTION            8\n",
      "             14 STORE_FAST               0 (print_vars)\n",
      "\n",
      " 12          16 LOAD_FAST                0 (print_vars)\n",
      "             18 CALL_FUNCTION            0\n",
      "             20 POP_TOP\n",
      "             22 LOAD_CONST               0 (None)\n",
      "             24 RETURN_VALUE\n",
      "\n",
      "Disassembly of <code object print_vars at 0x7fe4a4352420, file \"<ipython-input-29-9aac0c951ca1>\", line 6>:\n",
      "  7           0 LOAD_CONST               1 (1)\n",
      "              2 STORE_FAST               0 (inner_var)\n",
      "\n",
      "  8           4 LOAD_GLOBAL              0 (print)\n",
      "              6 LOAD_CONST               2 ('inner_var')\n",
      "              8 LOAD_FAST                0 (inner_var)\n",
      "             10 CALL_FUNCTION            2\n",
      "             12 POP_TOP\n",
      "\n",
      "  9          14 LOAD_GLOBAL              0 (print)\n",
      "             16 LOAD_CONST               3 ('var')\n",
      "             18 LOAD_DEREF               0 (var)\n",
      "             20 CALL_FUNCTION            2\n",
      "             22 POP_TOP\n",
      "\n",
      " 10          24 LOAD_GLOBAL              0 (print)\n",
      "             26 LOAD_CONST               4 ('global_var')\n",
      "             28 CALL_FUNCTION            1\n",
      "             30 POP_TOP\n",
      "\n",
      " 11          32 LOAD_GLOBAL              0 (print)\n",
      "             34 LOAD_CONST               5 ('func')\n",
      "             36 LOAD_GLOBAL              1 (func)\n",
      "             38 CALL_FUNCTION            2\n",
      "             40 POP_TOP\n",
      "             42 LOAD_CONST               0 (None)\n",
      "             44 RETURN_VALUE\n"
     ]
    }
   ],
   "source": [
    "from dis import dis\n",
    "dis(func) "
   ]
  },
  {
   "cell_type": "markdown",
   "metadata": {
    "colab_type": "text",
    "id": "93-d3Ka6KL0t",
    "slideshow": {
     "slide_type": "slide"
    }
   },
   "source": [
    "#### LEXING / TOKENIZING."
   ]
  },
  {
   "cell_type": "code",
   "execution_count": 0,
   "metadata": {
    "colab": {},
    "colab_type": "code",
    "id": "3-Eubh7wKL0y",
    "slideshow": {
     "slide_type": "fragment"
    }
   },
   "outputs": [],
   "source": [
    "b = 6\n",
    "def f1(a):\n",
    "    print(a)\n",
    "    print(b)"
   ]
  },
  {
   "cell_type": "code",
   "execution_count": 0,
   "metadata": {
    "colab": {},
    "colab_type": "code",
    "id": "MkkfDX2nKL07",
    "outputId": "dfd3ce24-7e42-40ad-8ffb-d91752aff49b",
    "slideshow": {
     "slide_type": "fragment"
    }
   },
   "outputs": [
    {
     "name": "stdout",
     "output_type": "stream",
     "text": [
      "  3           0 LOAD_GLOBAL              0 (print)\n",
      "              2 LOAD_FAST                0 (a)\n",
      "              4 CALL_FUNCTION            1\n",
      "              6 POP_TOP\n",
      "\n",
      "  4           8 LOAD_GLOBAL              0 (print)\n",
      "             10 LOAD_GLOBAL              1 (b)\n",
      "             12 CALL_FUNCTION            1\n",
      "             14 POP_TOP\n",
      "             16 LOAD_CONST               0 (None)\n",
      "             18 RETURN_VALUE\n"
     ]
    }
   ],
   "source": [
    "from dis import dis\n",
    "dis(f1)"
   ]
  },
  {
   "cell_type": "markdown",
   "metadata": {
    "colab_type": "text",
    "id": "Y5GlHnSfKL1C",
    "slideshow": {
     "slide_type": "fragment"
    }
   },
   "source": [
    "* Load global name print.\n",
    "* Load local name a.\n",
    "* Call print function with 1 positional argument. \n",
    "* Load global name b.\n",
    "* Load constant, in which case there None."
   ]
  },
  {
   "cell_type": "markdown",
   "metadata": {
    "slideshow": {
     "slide_type": "subslide"
    }
   },
   "source": [
    "#### Посмотреть, что в области видимости"
   ]
  },
  {
   "cell_type": "code",
   "execution_count": 35,
   "metadata": {
    "collapsed": true,
    "slideshow": {
     "slide_type": "fragment"
    }
   },
   "outputs": [
    {
     "name": "stdout",
     "output_type": "stream",
     "text": [
      "{'arg': 'argument', 'inner_var': 1}\n",
      "{'__name__': '__main__', '__doc__': 'Automatically created module for IPython interactive environment', '__package__': None, '__loader__': None, '__spec__': None, '__builtin__': <module 'builtins' (built-in)>, '__builtins__': <module 'builtins' (built-in)>, '_ih': ['', 'def avg(first, *args):\\n    print(type(args))\\n    numbers = (first,) + *args\\n    return sum(args)/len(args)', 'def avg(first, *args):\\n    print(type(args))\\n    numbers = (first,) + args\\n    return sum(args)/len(args)', 'def avg(first, *args):\\n    print(type(args))\\n    numbers = (first,) + args\\n    return sum(args)/len(args)\\n\\navg()', 'def avg(first, *args):\\n    print(type(args))\\n    numbers = (first,) + args\\n    return sum(args)/len(args)\\navg(1, 2, 4)\\navg()', \"def avg_with_kwargs(first, *args, **kwargs):\\n    numbers = (first,) + args\\n    sum(numbers)/len(numbers)\\n    if kwargs.get('print', False):\\n        print('Some very informative print telling us that return value is', \\n              numbers)\\n    return numbers\\n        \", \"def avg_with_kwargs(first, *args, **kwargs):\\n    numbers = (first,) + args\\n    sum(numbers)/len(numbers)\\n    if kwargs.get('print', False):\\n        print('Some very informative print telling us that return value is', \\n              numbers)\\n    return numbers\\n        \\nprint(avg_with_kwargs(1, 10, 100))\", \"def avg_with_kwargs(first, *args, **kwargs):\\n    numbers = (first,) + args\\n    sum(numbers)/len(numbers)\\n    if kwargs.get('do_print', False):\\n        print('Some very informative print telling us that return value is', \\n              numbers)\\n    return numbers\\n        \\nprint(avg_with_kwargs(1, 10, 100))\\nprint(avg_with_kwargs(1, 10, 100))\\nsettings = {'do_print', True}\\nprint(avg_with_kwargs(1, 10, 100, **settings))\", \"def avg_with_kwargs(first, *args, **kwargs):\\n    numbers = (first,) + args\\n    sum(numbers)/len(numbers)\\n    if kwargs.get('do_print', False):\\n        print('Some very informative print telling us that return value is', \\n              numbers)\\n    return numbers\\n        \\nprint(avg_with_kwargs(1, 10, 100))\\nprint(avg_with_kwargs(1, 10, 100))\\nsettings = {'do_print': True}\\nprint(avg_with_kwargs(1, 10, 100, **settings))\", \"def avg_with_kwargs(first, *args, **kwargs):\\n    numbers = (first,) + args\\n    res = sum(numbers)/len(numbers)\\n    if kwargs.get('do_print', False):\\n        print('Some very informative print telling us that return value is', res)\\n    return numbers\\n        \\nprint(avg_with_kwargs(1, 10, 100))\\nprint(avg_with_kwargs(1, 10, 100))\\nsettings = {'do_print': True}\\nprint(avg_with_kwargs(1, 10, 100, **settings))\", \"def avg_with_kwargs(first, *args, **kwargs):\\n    numbers = (first,) + args\\n    res = sum(numbers)/len(numbers)\\n    if kwargs.get('do_print', False):\\n        print('Some very informative print telling us that return value is', res)\\n    return numbers\\n        \\nprint(avg_with_kwargs(1, 10, 100))\\nprint(avg_with_kwargs(1, 10, 100), **{'do_print': True})\\nsettings = {'do_print': True}\\nprint(avg_with_kwargs(1, 10, 100, **settings))\", \"def avg_with_kwargs(first, *args, **kwargs):\\n    numbers = (first,) + args\\n    res = sum(numbers)/len(numbers)\\n    if kwargs.get('do_print', False):\\n        print('Some very informative print telling us that return value is', res)\\n    return numbers\\n        \\nprint(avg_with_kwargs(1, 10, 100))\\nprint(avg_with_kwargs(1, 10, 100, **{'do_print': True})\\nsettings = {'do_print': True}\\nprint(avg_with_kwargs(1, 10, 100, **settings))\", \"def avg_with_kwargs(first, *args, **kwargs):\\n    numbers = (first,) + args\\n    res = sum(numbers)/len(numbers)\\n    if kwargs.get('do_print', False):\\n        print('Some very informative print telling us that return value is', res)\\n    return numbers\\n        \\nprint(avg_with_kwargs(1, 10, 100))\\nprint(avg_with_kwargs(1, 10, 100, **{'do_print': True}))\\nsettings = {'do_print': True}\\nprint(avg_with_kwargs(1, 10, 100, **settings))\", \"def foo():\\n    return 'moo'\\n\\nfoo.attr = 'foo'\\nfoo.attr\", 'def foo(): return foo.__name__\\n\\nfoo()', \"def spam():\\n    eggs = 'spam and eggs'    \\n    def cantine():\\n        print(eggs)\\nspam()\", \"def spam():\\n    eggs = 'spam and eggs'\\n    print(eggs)\\n \\nspam()       # spam and eggs\\nprint(eggs)  # raises a NameError exception\", \"def spam():\\n    print(eggs)\\n \\neggs = 'spam and eggs'\\nspam()  # spam and eggs\", \"def spam():\\n    eggs = 'spam and eggs'    \\n    def cantine():\\n        print(eggs)\\nspam()\", \"def spam():\\n    eggs = 'spam and eggs'    \\n    def cantine():\\n        print(eggs)\\n    cantine()\\n    \\nspam()\", 'class Meal:\\n    def __init__(self):\\n        self.eggs = 2\\n \\n \\nmy_meal = Meal()\\nprint(my_meal.eggs)    # 2\\nprint(eggs)            # raises a NameError exception', 'del eggs', 'class Meal:\\n    def __init__(self):\\n        self.eggs = 2\\n \\n \\nmy_meal = Meal()\\nprint(my_meal.eggs)    # 2\\nprint(eggs)            # raises a NameError exception', \"glabal_var = 0\\n\\ndef fucn(arg):\\n    var = 'local variable'\\n    \\n    def print_vars():\\n        inner_var = \", \"glabal_var = 0\\n\\ndef fucn(arg):\\n    var = 'variable'\\n    \\n    def print_vars():\\n        inner_var = 1 \\n        print('inner_var', inner_var) # local\\n        print('var', var) # enclosing\\n        print('global_var') # global\\n        print('func', func)\\n    print_vars()\", \"glabal_var = 0\\n\\ndef fucn(arg):\\n    var = 'variable'\\n    \\n    def print_vars():\\n        inner_var = 1 \\n        print('inner_var', inner_var) # local\\n        print('var', var) # enclosing\\n        print('global_var') # global\\n        print('func', func)\\n    print_vars()\\nfunc()\", \"glabal_var = 0\\n\\ndef func(arg):\\n    var = 'variable'\\n    \\n    def print_vars():\\n        inner_var = 1 \\n        print('inner_var', inner_var) # local\\n        print('var', var) # enclosing\\n        print('global_var') # global\\n        print('func', func)\\n    print_vars()\\n    \\nfunc()\", \"glabal_var = 0\\n\\ndef func():\\n    var = 'variable'\\n    \\n    def print_vars():\\n        inner_var = 1 \\n        print('inner_var', inner_var) # local\\n        print('var', var) # enclosing\\n        print('global_var') # global\\n        print('func', func)\\n    print_vars()\\n    \\nfunc()\", 'dir(my_meal)', \"glabal_var = 0\\n\\ndef func():\\n    var = 'variable'\\n    \\n    def print_vars():\\n        inner_var = 1 \\n        print('inner_var', inner_var) # local\\n        print('var', var) # enclosing\\n        print('global_var') # global\\n        print('func', func)\\n    print_vars()\\n    \\nfunc()\", 'from dis import dis\\ndis(func)', 'def f():\\n    print(i)\\n\\nfor i in range(5):\\n    f()', \"var = 'SUPER'\\ndef foo():\\n    var += ' PUPER'\\n    return var\\nfoo()\", \"glabal_var = 0\\n\\ndef func():\\n    var = 'variable'\\n    \\n    def print_vars():\\n        inner_var = 1 \\n        print(locals())\\n        print(globals())\\n    print_vars()\\n\\nfunc()\", \"glabal_var = 0\\n\\ndef func():\\n    var = 'variable'\\n    \\n    def print_vars(arg):\\n        inner_var = 1 \\n        print(locals()) # \\n        print(globals())\\n    print_vars()\\n\\nfunc()\", \"glabal_var = 0\\n\\ndef func():\\n    var = 'variable'\\n    \\n    def print_vars(arg):\\n        inner_var = 1 \\n        print(locals()) # \\n        print(globals())\\n        \\n    print_vars('argument')\\n\\nfunc()\"], '_oh': {13: 'foo', 14: 'foo', 28: ['__class__', '__delattr__', '__dict__', '__dir__', '__doc__', '__eq__', '__format__', '__ge__', '__getattribute__', '__gt__', '__hash__', '__init__', '__init_subclass__', '__le__', '__lt__', '__module__', '__ne__', '__new__', '__reduce__', '__reduce_ex__', '__repr__', '__setattr__', '__sizeof__', '__str__', '__subclasshook__', '__weakref__', 'eggs']}, '_dh': ['/home/andrey/python_course'], 'In': ['', 'def avg(first, *args):\\n    print(type(args))\\n    numbers = (first,) + *args\\n    return sum(args)/len(args)', 'def avg(first, *args):\\n    print(type(args))\\n    numbers = (first,) + args\\n    return sum(args)/len(args)', 'def avg(first, *args):\\n    print(type(args))\\n    numbers = (first,) + args\\n    return sum(args)/len(args)\\n\\navg()', 'def avg(first, *args):\\n    print(type(args))\\n    numbers = (first,) + args\\n    return sum(args)/len(args)\\navg(1, 2, 4)\\navg()', \"def avg_with_kwargs(first, *args, **kwargs):\\n    numbers = (first,) + args\\n    sum(numbers)/len(numbers)\\n    if kwargs.get('print', False):\\n        print('Some very informative print telling us that return value is', \\n              numbers)\\n    return numbers\\n        \", \"def avg_with_kwargs(first, *args, **kwargs):\\n    numbers = (first,) + args\\n    sum(numbers)/len(numbers)\\n    if kwargs.get('print', False):\\n        print('Some very informative print telling us that return value is', \\n              numbers)\\n    return numbers\\n        \\nprint(avg_with_kwargs(1, 10, 100))\", \"def avg_with_kwargs(first, *args, **kwargs):\\n    numbers = (first,) + args\\n    sum(numbers)/len(numbers)\\n    if kwargs.get('do_print', False):\\n        print('Some very informative print telling us that return value is', \\n              numbers)\\n    return numbers\\n        \\nprint(avg_with_kwargs(1, 10, 100))\\nprint(avg_with_kwargs(1, 10, 100))\\nsettings = {'do_print', True}\\nprint(avg_with_kwargs(1, 10, 100, **settings))\", \"def avg_with_kwargs(first, *args, **kwargs):\\n    numbers = (first,) + args\\n    sum(numbers)/len(numbers)\\n    if kwargs.get('do_print', False):\\n        print('Some very informative print telling us that return value is', \\n              numbers)\\n    return numbers\\n        \\nprint(avg_with_kwargs(1, 10, 100))\\nprint(avg_with_kwargs(1, 10, 100))\\nsettings = {'do_print': True}\\nprint(avg_with_kwargs(1, 10, 100, **settings))\", \"def avg_with_kwargs(first, *args, **kwargs):\\n    numbers = (first,) + args\\n    res = sum(numbers)/len(numbers)\\n    if kwargs.get('do_print', False):\\n        print('Some very informative print telling us that return value is', res)\\n    return numbers\\n        \\nprint(avg_with_kwargs(1, 10, 100))\\nprint(avg_with_kwargs(1, 10, 100))\\nsettings = {'do_print': True}\\nprint(avg_with_kwargs(1, 10, 100, **settings))\", \"def avg_with_kwargs(first, *args, **kwargs):\\n    numbers = (first,) + args\\n    res = sum(numbers)/len(numbers)\\n    if kwargs.get('do_print', False):\\n        print('Some very informative print telling us that return value is', res)\\n    return numbers\\n        \\nprint(avg_with_kwargs(1, 10, 100))\\nprint(avg_with_kwargs(1, 10, 100), **{'do_print': True})\\nsettings = {'do_print': True}\\nprint(avg_with_kwargs(1, 10, 100, **settings))\", \"def avg_with_kwargs(first, *args, **kwargs):\\n    numbers = (first,) + args\\n    res = sum(numbers)/len(numbers)\\n    if kwargs.get('do_print', False):\\n        print('Some very informative print telling us that return value is', res)\\n    return numbers\\n        \\nprint(avg_with_kwargs(1, 10, 100))\\nprint(avg_with_kwargs(1, 10, 100, **{'do_print': True})\\nsettings = {'do_print': True}\\nprint(avg_with_kwargs(1, 10, 100, **settings))\", \"def avg_with_kwargs(first, *args, **kwargs):\\n    numbers = (first,) + args\\n    res = sum(numbers)/len(numbers)\\n    if kwargs.get('do_print', False):\\n        print('Some very informative print telling us that return value is', res)\\n    return numbers\\n        \\nprint(avg_with_kwargs(1, 10, 100))\\nprint(avg_with_kwargs(1, 10, 100, **{'do_print': True}))\\nsettings = {'do_print': True}\\nprint(avg_with_kwargs(1, 10, 100, **settings))\", \"def foo():\\n    return 'moo'\\n\\nfoo.attr = 'foo'\\nfoo.attr\", 'def foo(): return foo.__name__\\n\\nfoo()', \"def spam():\\n    eggs = 'spam and eggs'    \\n    def cantine():\\n        print(eggs)\\nspam()\", \"def spam():\\n    eggs = 'spam and eggs'\\n    print(eggs)\\n \\nspam()       # spam and eggs\\nprint(eggs)  # raises a NameError exception\", \"def spam():\\n    print(eggs)\\n \\neggs = 'spam and eggs'\\nspam()  # spam and eggs\", \"def spam():\\n    eggs = 'spam and eggs'    \\n    def cantine():\\n        print(eggs)\\nspam()\", \"def spam():\\n    eggs = 'spam and eggs'    \\n    def cantine():\\n        print(eggs)\\n    cantine()\\n    \\nspam()\", 'class Meal:\\n    def __init__(self):\\n        self.eggs = 2\\n \\n \\nmy_meal = Meal()\\nprint(my_meal.eggs)    # 2\\nprint(eggs)            # raises a NameError exception', 'del eggs', 'class Meal:\\n    def __init__(self):\\n        self.eggs = 2\\n \\n \\nmy_meal = Meal()\\nprint(my_meal.eggs)    # 2\\nprint(eggs)            # raises a NameError exception', \"glabal_var = 0\\n\\ndef fucn(arg):\\n    var = 'local variable'\\n    \\n    def print_vars():\\n        inner_var = \", \"glabal_var = 0\\n\\ndef fucn(arg):\\n    var = 'variable'\\n    \\n    def print_vars():\\n        inner_var = 1 \\n        print('inner_var', inner_var) # local\\n        print('var', var) # enclosing\\n        print('global_var') # global\\n        print('func', func)\\n    print_vars()\", \"glabal_var = 0\\n\\ndef fucn(arg):\\n    var = 'variable'\\n    \\n    def print_vars():\\n        inner_var = 1 \\n        print('inner_var', inner_var) # local\\n        print('var', var) # enclosing\\n        print('global_var') # global\\n        print('func', func)\\n    print_vars()\\nfunc()\", \"glabal_var = 0\\n\\ndef func(arg):\\n    var = 'variable'\\n    \\n    def print_vars():\\n        inner_var = 1 \\n        print('inner_var', inner_var) # local\\n        print('var', var) # enclosing\\n        print('global_var') # global\\n        print('func', func)\\n    print_vars()\\n    \\nfunc()\", \"glabal_var = 0\\n\\ndef func():\\n    var = 'variable'\\n    \\n    def print_vars():\\n        inner_var = 1 \\n        print('inner_var', inner_var) # local\\n        print('var', var) # enclosing\\n        print('global_var') # global\\n        print('func', func)\\n    print_vars()\\n    \\nfunc()\", 'dir(my_meal)', \"glabal_var = 0\\n\\ndef func():\\n    var = 'variable'\\n    \\n    def print_vars():\\n        inner_var = 1 \\n        print('inner_var', inner_var) # local\\n        print('var', var) # enclosing\\n        print('global_var') # global\\n        print('func', func)\\n    print_vars()\\n    \\nfunc()\", 'from dis import dis\\ndis(func)', 'def f():\\n    print(i)\\n\\nfor i in range(5):\\n    f()', \"var = 'SUPER'\\ndef foo():\\n    var += ' PUPER'\\n    return var\\nfoo()\", \"glabal_var = 0\\n\\ndef func():\\n    var = 'variable'\\n    \\n    def print_vars():\\n        inner_var = 1 \\n        print(locals())\\n        print(globals())\\n    print_vars()\\n\\nfunc()\", \"glabal_var = 0\\n\\ndef func():\\n    var = 'variable'\\n    \\n    def print_vars(arg):\\n        inner_var = 1 \\n        print(locals()) # \\n        print(globals())\\n    print_vars()\\n\\nfunc()\", \"glabal_var = 0\\n\\ndef func():\\n    var = 'variable'\\n    \\n    def print_vars(arg):\\n        inner_var = 1 \\n        print(locals()) # \\n        print(globals())\\n        \\n    print_vars('argument')\\n\\nfunc()\"], 'Out': {13: 'foo', 14: 'foo', 28: ['__class__', '__delattr__', '__dict__', '__dir__', '__doc__', '__eq__', '__format__', '__ge__', '__getattribute__', '__gt__', '__hash__', '__init__', '__init_subclass__', '__le__', '__lt__', '__module__', '__ne__', '__new__', '__reduce__', '__reduce_ex__', '__repr__', '__setattr__', '__sizeof__', '__str__', '__subclasshook__', '__weakref__', 'eggs']}, 'get_ipython': <bound method InteractiveShell.get_ipython of <ipykernel.zmqshell.ZMQInteractiveShell object at 0x7fe4aa2cc9b0>>, 'exit': <IPython.core.autocall.ZMQExitAutocall object at 0x7fe4a709bf98>, 'quit': <IPython.core.autocall.ZMQExitAutocall object at 0x7fe4a709bf98>, '_': ['__class__', '__delattr__', '__dict__', '__dir__', '__doc__', '__eq__', '__format__', '__ge__', '__getattribute__', '__gt__', '__hash__', '__init__', '__init_subclass__', '__le__', '__lt__', '__module__', '__ne__', '__new__', '__reduce__', '__reduce_ex__', '__repr__', '__setattr__', '__sizeof__', '__str__', '__subclasshook__', '__weakref__', 'eggs'], '__': 'foo', '___': 'foo', '_i': \"glabal_var = 0\\n\\ndef func():\\n    var = 'variable'\\n    \\n    def print_vars(arg):\\n        inner_var = 1 \\n        print(locals()) # \\n        print(globals())\\n    print_vars()\\n\\nfunc()\", '_ii': \"glabal_var = 0\\n\\ndef func():\\n    var = 'variable'\\n    \\n    def print_vars():\\n        inner_var = 1 \\n        print(locals())\\n        print(globals())\\n    print_vars()\\n\\nfunc()\", '_iii': \"var = 'SUPER'\\ndef foo():\\n    var += ' PUPER'\\n    return var\\nfoo()\", '_i1': 'def avg(first, *args):\\n    print(type(args))\\n    numbers = (first,) + *args\\n    return sum(args)/len(args)', '_i2': 'def avg(first, *args):\\n    print(type(args))\\n    numbers = (first,) + args\\n    return sum(args)/len(args)', 'avg': <function avg at 0x7fe4a4718f28>, '_i3': 'def avg(first, *args):\\n    print(type(args))\\n    numbers = (first,) + args\\n    return sum(args)/len(args)\\n\\navg()', '_i4': 'def avg(first, *args):\\n    print(type(args))\\n    numbers = (first,) + args\\n    return sum(args)/len(args)\\navg(1, 2, 4)\\navg()', '_i5': \"def avg_with_kwargs(first, *args, **kwargs):\\n    numbers = (first,) + args\\n    sum(numbers)/len(numbers)\\n    if kwargs.get('print', False):\\n        print('Some very informative print telling us that return value is', \\n              numbers)\\n    return numbers\\n        \", 'avg_with_kwargs': <function avg_with_kwargs at 0x7fe4a45d3a60>, '_i6': \"def avg_with_kwargs(first, *args, **kwargs):\\n    numbers = (first,) + args\\n    sum(numbers)/len(numbers)\\n    if kwargs.get('print', False):\\n        print('Some very informative print telling us that return value is', \\n              numbers)\\n    return numbers\\n        \\nprint(avg_with_kwargs(1, 10, 100))\", '_i7': \"def avg_with_kwargs(first, *args, **kwargs):\\n    numbers = (first,) + args\\n    sum(numbers)/len(numbers)\\n    if kwargs.get('do_print', False):\\n        print('Some very informative print telling us that return value is', \\n              numbers)\\n    return numbers\\n        \\nprint(avg_with_kwargs(1, 10, 100))\\nprint(avg_with_kwargs(1, 10, 100))\\nsettings = {'do_print', True}\\nprint(avg_with_kwargs(1, 10, 100, **settings))\", 'settings': {'do_print': True}, '_i8': \"def avg_with_kwargs(first, *args, **kwargs):\\n    numbers = (first,) + args\\n    sum(numbers)/len(numbers)\\n    if kwargs.get('do_print', False):\\n        print('Some very informative print telling us that return value is', \\n              numbers)\\n    return numbers\\n        \\nprint(avg_with_kwargs(1, 10, 100))\\nprint(avg_with_kwargs(1, 10, 100))\\nsettings = {'do_print': True}\\nprint(avg_with_kwargs(1, 10, 100, **settings))\", '_i9': \"def avg_with_kwargs(first, *args, **kwargs):\\n    numbers = (first,) + args\\n    res = sum(numbers)/len(numbers)\\n    if kwargs.get('do_print', False):\\n        print('Some very informative print telling us that return value is', res)\\n    return numbers\\n        \\nprint(avg_with_kwargs(1, 10, 100))\\nprint(avg_with_kwargs(1, 10, 100))\\nsettings = {'do_print': True}\\nprint(avg_with_kwargs(1, 10, 100, **settings))\", '_i10': \"def avg_with_kwargs(first, *args, **kwargs):\\n    numbers = (first,) + args\\n    res = sum(numbers)/len(numbers)\\n    if kwargs.get('do_print', False):\\n        print('Some very informative print telling us that return value is', res)\\n    return numbers\\n        \\nprint(avg_with_kwargs(1, 10, 100))\\nprint(avg_with_kwargs(1, 10, 100), **{'do_print': True})\\nsettings = {'do_print': True}\\nprint(avg_with_kwargs(1, 10, 100, **settings))\", '_i11': \"def avg_with_kwargs(first, *args, **kwargs):\\n    numbers = (first,) + args\\n    res = sum(numbers)/len(numbers)\\n    if kwargs.get('do_print', False):\\n        print('Some very informative print telling us that return value is', res)\\n    return numbers\\n        \\nprint(avg_with_kwargs(1, 10, 100))\\nprint(avg_with_kwargs(1, 10, 100, **{'do_print': True})\\nsettings = {'do_print': True}\\nprint(avg_with_kwargs(1, 10, 100, **settings))\", '_i12': \"def avg_with_kwargs(first, *args, **kwargs):\\n    numbers = (first,) + args\\n    res = sum(numbers)/len(numbers)\\n    if kwargs.get('do_print', False):\\n        print('Some very informative print telling us that return value is', res)\\n    return numbers\\n        \\nprint(avg_with_kwargs(1, 10, 100))\\nprint(avg_with_kwargs(1, 10, 100, **{'do_print': True}))\\nsettings = {'do_print': True}\\nprint(avg_with_kwargs(1, 10, 100, **settings))\", '_i13': \"def foo():\\n    return 'moo'\\n\\nfoo.attr = 'foo'\\nfoo.attr\", 'foo': <function foo at 0x7fe4a44b1730>, '_13': 'foo', '_i14': 'def foo(): return foo.__name__\\n\\nfoo()', '_14': 'foo', '_i15': \"def spam():\\n    eggs = 'spam and eggs'    \\n    def cantine():\\n        print(eggs)\\nspam()\", 'spam': <function spam at 0x7fe4a4786c80>, '_i16': \"def spam():\\n    eggs = 'spam and eggs'\\n    print(eggs)\\n \\nspam()       # spam and eggs\\nprint(eggs)  # raises a NameError exception\", '_i17': \"def spam():\\n    print(eggs)\\n \\neggs = 'spam and eggs'\\nspam()  # spam and eggs\", '_i18': \"def spam():\\n    eggs = 'spam and eggs'    \\n    def cantine():\\n        print(eggs)\\nspam()\", '_i19': \"def spam():\\n    eggs = 'spam and eggs'    \\n    def cantine():\\n        print(eggs)\\n    cantine()\\n    \\nspam()\", '_i20': 'class Meal:\\n    def __init__(self):\\n        self.eggs = 2\\n \\n \\nmy_meal = Meal()\\nprint(my_meal.eggs)    # 2\\nprint(eggs)            # raises a NameError exception', 'Meal': <class '__main__.Meal'>, 'my_meal': <__main__.Meal object at 0x7fe4a4336198>, '_i21': 'del eggs', '_i22': 'class Meal:\\n    def __init__(self):\\n        self.eggs = 2\\n \\n \\nmy_meal = Meal()\\nprint(my_meal.eggs)    # 2\\nprint(eggs)            # raises a NameError exception', '_i23': \"glabal_var = 0\\n\\ndef fucn(arg):\\n    var = 'local variable'\\n    \\n    def print_vars():\\n        inner_var = \", '_i24': \"glabal_var = 0\\n\\ndef fucn(arg):\\n    var = 'variable'\\n    \\n    def print_vars():\\n        inner_var = 1 \\n        print('inner_var', inner_var) # local\\n        print('var', var) # enclosing\\n        print('global_var') # global\\n        print('func', func)\\n    print_vars()\", 'glabal_var': 0, 'fucn': <function fucn at 0x7fe4a44448c8>, '_i25': \"glabal_var = 0\\n\\ndef fucn(arg):\\n    var = 'variable'\\n    \\n    def print_vars():\\n        inner_var = 1 \\n        print('inner_var', inner_var) # local\\n        print('var', var) # enclosing\\n        print('global_var') # global\\n        print('func', func)\\n    print_vars()\\nfunc()\", '_i26': \"glabal_var = 0\\n\\ndef func(arg):\\n    var = 'variable'\\n    \\n    def print_vars():\\n        inner_var = 1 \\n        print('inner_var', inner_var) # local\\n        print('var', var) # enclosing\\n        print('global_var') # global\\n        print('func', func)\\n    print_vars()\\n    \\nfunc()\", 'func': <function func at 0x7fe4a45d3ea0>, '_i27': \"glabal_var = 0\\n\\ndef func():\\n    var = 'variable'\\n    \\n    def print_vars():\\n        inner_var = 1 \\n        print('inner_var', inner_var) # local\\n        print('var', var) # enclosing\\n        print('global_var') # global\\n        print('func', func)\\n    print_vars()\\n    \\nfunc()\", '_i28': 'dir(my_meal)', '_28': ['__class__', '__delattr__', '__dict__', '__dir__', '__doc__', '__eq__', '__format__', '__ge__', '__getattribute__', '__gt__', '__hash__', '__init__', '__init_subclass__', '__le__', '__lt__', '__module__', '__ne__', '__new__', '__reduce__', '__reduce_ex__', '__repr__', '__setattr__', '__sizeof__', '__str__', '__subclasshook__', '__weakref__', 'eggs'], '_i29': \"glabal_var = 0\\n\\ndef func():\\n    var = 'variable'\\n    \\n    def print_vars():\\n        inner_var = 1 \\n        print('inner_var', inner_var) # local\\n        print('var', var) # enclosing\\n        print('global_var') # global\\n        print('func', func)\\n    print_vars()\\n    \\nfunc()\", '_i30': 'from dis import dis\\ndis(func)', 'dis': <function dis at 0x7fe4ab4a2f28>, '_i31': 'def f():\\n    print(i)\\n\\nfor i in range(5):\\n    f()', 'f': <function f at 0x7fe4a4444840>, 'i': 4, '_i32': \"var = 'SUPER'\\ndef foo():\\n    var += ' PUPER'\\n    return var\\nfoo()\", 'var': 'SUPER', '_i33': \"glabal_var = 0\\n\\ndef func():\\n    var = 'variable'\\n    \\n    def print_vars():\\n        inner_var = 1 \\n        print(locals())\\n        print(globals())\\n    print_vars()\\n\\nfunc()\", '_i34': \"glabal_var = 0\\n\\ndef func():\\n    var = 'variable'\\n    \\n    def print_vars(arg):\\n        inner_var = 1 \\n        print(locals()) # \\n        print(globals())\\n    print_vars()\\n\\nfunc()\", '_i35': \"glabal_var = 0\\n\\ndef func():\\n    var = 'variable'\\n    \\n    def print_vars(arg):\\n        inner_var = 1 \\n        print(locals()) # \\n        print(globals())\\n        \\n    print_vars('argument')\\n\\nfunc()\"}\n"
     ]
    }
   ],
   "source": [
    "glabal_var = 0\n",
    "\n",
    "def func():\n",
    "    var = 'variable'\n",
    "    \n",
    "    def print_vars(arg):\n",
    "        inner_var = 1 \n",
    "        print(locals()) # {'arg': 'argument', 'inner_var': 1}\n",
    "        print(globals()) # {'__name__': '__main__', '__doc__' ..., 'glabal_var' : 0}\n",
    "        \n",
    "    print_vars('argument')\n",
    "\n",
    "func()"
   ]
  },
  {
   "cell_type": "markdown",
   "metadata": {
    "colab_type": "text",
    "id": "t1szbJmWKL1N",
    "slideshow": {
     "slide_type": "subslide"
    }
   },
   "source": [
    "#### Функции в Python могут использовать переменные, определенные во внешних областях видимости. \n",
    "\n",
    "\n",
    "#### Важно помнить, что поиск переменных осуществляется во время исполнения функции, а не во время её объявления."
   ]
  },
  {
   "cell_type": "code",
   "execution_count": 2,
   "metadata": {
    "colab": {},
    "colab_type": "code",
    "id": "Pk7McQ8tKL1P",
    "outputId": "a42ffb9d-03d8-410a-a1a6-9389a4ed47e1",
    "slideshow": {
     "slide_type": "fragment"
    }
   },
   "outputs": [
    {
     "ename": "TypeError",
     "evalue": "'int' object is not callable",
     "output_type": "error",
     "traceback": [
      "\u001b[0;31m---------------------------------------------------------------------------\u001b[0m",
      "\u001b[0;31mTypeError\u001b[0m                                 Traceback (most recent call last)",
      "\u001b[0;32m<ipython-input-2-f9e1cabb27b7>\u001b[0m in \u001b[0;36m<module>\u001b[0;34m\u001b[0m\n\u001b[1;32m      3\u001b[0m \u001b[0;34m\u001b[0m\u001b[0m\n\u001b[1;32m      4\u001b[0m \u001b[0;32mfor\u001b[0m \u001b[0mf\u001b[0m \u001b[0;32min\u001b[0m \u001b[0mrange\u001b[0m\u001b[0;34m(\u001b[0m\u001b[0;36m5\u001b[0m\u001b[0;34m)\u001b[0m\u001b[0;34m:\u001b[0m\u001b[0;34m\u001b[0m\u001b[0;34m\u001b[0m\u001b[0m\n\u001b[0;32m----> 5\u001b[0;31m     \u001b[0mf\u001b[0m\u001b[0;34m(\u001b[0m\u001b[0;34m)\u001b[0m\u001b[0;34m\u001b[0m\u001b[0;34m\u001b[0m\u001b[0m\n\u001b[0m",
      "\u001b[0;31mTypeError\u001b[0m: 'int' object is not callable"
     ]
    }
   ],
   "source": [
    "def f():\n",
    "    print(i)\n",
    "\n",
    "for f in range(5):\n",
    "    f()"
   ]
  },
  {
   "cell_type": "code",
   "execution_count": 3,
   "metadata": {
    "slideshow": {
     "slide_type": "subslide"
    }
   },
   "outputs": [
    {
     "name": "stdout",
     "output_type": "stream",
     "text": [
      "0\n",
      "0\n"
     ]
    }
   ],
   "source": [
    "global_var = 0\n",
    "\n",
    "def func():\n",
    "    global_var = 1\n",
    "    \n",
    "print(global_var)\n",
    "func()\n",
    "print(global_var)"
   ]
  },
  {
   "cell_type": "markdown",
   "metadata": {
    "slideshow": {
     "slide_type": "subslide"
    }
   },
   "source": [
    "Для присваивания правило LEGB не работает"
   ]
  },
  {
   "cell_type": "code",
   "execution_count": 39,
   "metadata": {
    "slideshow": {
     "slide_type": "fragment"
    }
   },
   "outputs": [
    {
     "ename": "UnboundLocalError",
     "evalue": "local variable 'global_var' referenced before assignment",
     "output_type": "error",
     "traceback": [
      "\u001b[0;31m---------------------------------------------------------------------------\u001b[0m",
      "\u001b[0;31mUnboundLocalError\u001b[0m                         Traceback (most recent call last)",
      "\u001b[0;32m<ipython-input-39-2553de2cc291>\u001b[0m in \u001b[0;36m<module>\u001b[0;34m\u001b[0m\n\u001b[1;32m      5\u001b[0m \u001b[0;34m\u001b[0m\u001b[0m\n\u001b[1;32m      6\u001b[0m     \u001b[0mprint\u001b[0m\u001b[0;34m(\u001b[0m\u001b[0mglobal_var\u001b[0m\u001b[0;34m)\u001b[0m\u001b[0;34m\u001b[0m\u001b[0;34m\u001b[0m\u001b[0m\n\u001b[0;32m----> 7\u001b[0;31m \u001b[0mfoo\u001b[0m\u001b[0;34m(\u001b[0m\u001b[0;34m)\u001b[0m\u001b[0;34m\u001b[0m\u001b[0;34m\u001b[0m\u001b[0m\n\u001b[0m",
      "\u001b[0;32m<ipython-input-39-2553de2cc291>\u001b[0m in \u001b[0;36mfoo\u001b[0;34m()\u001b[0m\n\u001b[1;32m      2\u001b[0m \u001b[0;34m\u001b[0m\u001b[0m\n\u001b[1;32m      3\u001b[0m \u001b[0;32mdef\u001b[0m \u001b[0mfoo\u001b[0m\u001b[0;34m(\u001b[0m\u001b[0;34m)\u001b[0m\u001b[0;34m:\u001b[0m\u001b[0;34m\u001b[0m\u001b[0;34m\u001b[0m\u001b[0m\n\u001b[0;32m----> 4\u001b[0;31m     \u001b[0mglobal_var\u001b[0m \u001b[0;34m=\u001b[0m \u001b[0mglobal_var\u001b[0m \u001b[0;34m+\u001b[0m \u001b[0;36m1\u001b[0m\u001b[0;34m\u001b[0m\u001b[0;34m\u001b[0m\u001b[0m\n\u001b[0m\u001b[1;32m      5\u001b[0m \u001b[0;34m\u001b[0m\u001b[0m\n\u001b[1;32m      6\u001b[0m     \u001b[0mprint\u001b[0m\u001b[0;34m(\u001b[0m\u001b[0mglobal_var\u001b[0m\u001b[0;34m)\u001b[0m\u001b[0;34m\u001b[0m\u001b[0;34m\u001b[0m\u001b[0m\n",
      "\u001b[0;31mUnboundLocalError\u001b[0m: local variable 'global_var' referenced before assignment"
     ]
    }
   ],
   "source": [
    "global_var = 0\n",
    "\n",
    "def foo():\n",
    "    global_var = global_var + 1\n",
    "\n",
    "print(global_var)\n",
    "foo()"
   ]
  },
  {
   "cell_type": "markdown",
   "metadata": {
    "colab_type": "text",
    "id": "sfdk1G86KL1a",
    "slideshow": {
     "slide_type": "subslide"
    }
   },
   "source": [
    "Изменить стандартное поведение можно с помощью операторов nonlocal и global\n"
   ]
  },
  {
   "cell_type": "markdown",
   "metadata": {
    "colab_type": "text",
    "id": "VS8pxWWcKL1h",
    "slideshow": {
     "slide_type": "slide"
    }
   },
   "source": [
    "### global"
   ]
  },
  {
   "cell_type": "markdown",
   "metadata": {
    "colab_type": "text",
    "id": "cPKjSwUSKL1i",
    "slideshow": {
     "slide_type": "subslide"
    }
   },
   "source": [
    "Чтобы присвоить некоторое значение переменной, определённой на высшем уровне​\n",
    "\n",
    "программы, нужно воспользоваться оператором __global__.\n",
    "\n"
   ]
  },
  {
   "cell_type": "code",
   "execution_count": 44,
   "metadata": {
    "colab": {},
    "colab_type": "code",
    "id": "ng2dYUjGKL1j",
    "outputId": "7ffc1738-15b3-4b8b-9d6a-44234df4c3ff",
    "slideshow": {
     "slide_type": "fragment"
    }
   },
   "outputs": [
    {
     "name": "stdout",
     "output_type": "stream",
     "text": [
      "0\n",
      "1\n"
     ]
    }
   ],
   "source": [
    "global_var = 0\n",
    "\n",
    "def foo():\n",
    "    global global_var\n",
    "    global_var = global_var + 1\n",
    "\n",
    "print(global_var)\n",
    "foo()\n",
    "print(global_var)"
   ]
  },
  {
   "cell_type": "markdown",
   "metadata": {
    "colab_type": "text",
    "id": "YiPtr3HDKL1y",
    "slideshow": {
     "slide_type": "slide"
    }
   },
   "source": [
    "### nonlocal"
   ]
  },
  {
   "cell_type": "markdown",
   "metadata": {
    "colab_type": "text",
    "id": "UGNuMJTjKL15",
    "slideshow": {
     "slide_type": "subslide"
    }
   },
   "source": [
    "Nonlocal namespace – объявление функции внутри другой функции.\n",
    "\n",
    "\n",
    "Чтобы присвоить новое значение переменной объявленной в функции выше, используем оператор nonlocal"
   ]
  },
  {
   "cell_type": "code",
   "execution_count": 47,
   "metadata": {
    "colab": {},
    "colab_type": "code",
    "id": "fAVYGZq6KL17",
    "outputId": "5d2ed86a-cec9-41d7-cec7-8f28318d7ca5",
    "slideshow": {
     "slide_type": "fragment"
    }
   },
   "outputs": [
    {
     "name": "stdout",
     "output_type": "stream",
     "text": [
      "local a is 3\n"
     ]
    }
   ],
   "source": [
    "def f1():\n",
    "    a = 1\n",
    "    b = 2\n",
    "    def inner(): \n",
    "        nonlocal a\n",
    "        a = a + b\n",
    "    \n",
    "    inner()\n",
    "    print('local a is', a)\n",
    "f1()"
   ]
  },
  {
   "cell_type": "markdown",
   "metadata": {
    "colab_type": "text",
    "id": "JoM9xbgCKL2D",
    "slideshow": {
     "slide_type": "slide"
    }
   },
   "source": [
    "### Что нужно запомнить"
   ]
  },
  {
   "cell_type": "markdown",
   "metadata": {
    "colab_type": "text",
    "id": "tYT0LFBYKL2G",
    "slideshow": {
     "slide_type": "fragment"
    }
   },
   "source": [
    "1. В Python четыре области видимости: встроенная, глобальная, объемлющая и локальная.\n",
    "\n",
    "2. Правило LEGB: поиск имени осуществляется от локальной к встроенной. При использовании операции присваивания имя считается локальным. \n",
    "\n",
    "3. Это поведение можно изменить с помощью операторов global и nonlocal."
   ]
  },
  {
   "cell_type": "markdown",
   "metadata": {
    "slideshow": {
     "slide_type": "slide"
    }
   },
   "source": [
    "#### Function annotation "
   ]
  },
  {
   "cell_type": "code",
   "execution_count": 5,
   "metadata": {
    "slideshow": {
     "slide_type": "fragment"
    }
   },
   "outputs": [
    {
     "name": "stdout",
     "output_type": "stream",
     "text": [
      "True\n",
      "True\n"
     ]
    }
   ],
   "source": [
    "from typing import Union\n",
    "\n",
    "def is_palindrome(s: Union[str, int], variant: int) -> bool: \n",
    "    if variant == 1:\n",
    "        return s == ''.join(reversed(s)) \n",
    "    if variant == 2:\n",
    "        return s == s[::-1]\n",
    "    return 'coose variant'\n",
    "\n",
    "print(is_palindrome('madam', 1))\n",
    "print(is_palindrome('madam', 2))"
   ]
  },
  {
   "cell_type": "markdown",
   "metadata": {
    "slideshow": {
     "slide_type": "slide"
    }
   },
   "source": [
    "#### Naming и кое что еще"
   ]
  },
  {
   "cell_type": "markdown",
   "metadata": {
    "slideshow": {
     "slide_type": "fragment"
    }
   },
   "source": [
    "* Функция должна делать только одну вещь (логически)\n",
    "* Функция-простыня на три экрана - БЕДА.\n",
    "* Имя функции должно максимально коротко отражать то, что она делает\n",
    "* Лучше длинно, но содержательно, чем коротко и туманно\n",
    "* Лучше строить имя функции от глагола"
   ]
  }
 ],
 "metadata": {
  "celltoolbar": "Slideshow",
  "kernelspec": {
   "display_name": "Python 3",
   "language": "python",
   "name": "python3"
  },
  "language_info": {
   "codemirror_mode": {
    "name": "ipython",
    "version": 3
   },
   "file_extension": ".py",
   "mimetype": "text/x-python",
   "name": "python",
   "nbconvert_exporter": "python",
   "pygments_lexer": "ipython3",
   "version": "3.7.1"
  }
 },
 "nbformat": 4,
 "nbformat_minor": 2
}
